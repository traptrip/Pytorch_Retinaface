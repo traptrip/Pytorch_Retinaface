{
 "cells": [
  {
   "cell_type": "code",
   "execution_count": 2,
   "metadata": {},
   "outputs": [],
   "source": [
    "from retina_torch.retina_api import RetinaDetector\n",
    "import json\n",
    "from tqdm.notebook import tqdm\n",
    "import cv2\n",
    "\n",
    "with open(\"retina_torch/config.json\", \"r\") as read_file:\n",
    "    config = json.load(read_file)\n",
    "\n",
    "\n",
    "retina = RetinaDetector(config)\n",
    "green = (0, 255, 0)\n",
    "red = (0, 0, 255)\n",
    "blue = (255, 0, 0)\n",
    "color = green\n",
    "\n",
    "\n",
    "def _drawing_frame(coordinates, landmarks, frame):\n",
    "    for coords, lndmks in zip(coordinates, landmarks):\n",
    "        pt1 = int(coords[0]), int(coords[1])\n",
    "        pt2 = int(coords[2]), int(coords[3])\n",
    "        cv2.rectangle(frame, pt1, pt2, color=color, thickness=2)\n",
    "        cv2.circle(frame, (int(lndmks[0][0]), int(lndmks[0][1])), radius=0, color=color, thickness=3)   # left eye\n",
    "        cv2.circle(frame, (int(lndmks[1][0]), int(lndmks[1][1])), radius=0, color=color, thickness=3)  # right eye\n",
    "        cv2.circle(frame, (int(lndmks[2][0]), int(lndmks[2][1])), radius=0, color=red, thickness=3) # nose\n",
    "        cv2.circle(frame, (int(lndmks[3][0]), int(lndmks[3][1])), radius=0, color=color, thickness=3) # left lip\n",
    "        cv2.circle(frame, (int(lndmks[4][0]), int(lndmks[4][1])), radius=0, color=color, thickness=3) # right lip\n",
    "\n",
    "    return frame\n"
   ]
  },
  {
   "cell_type": "code",
   "execution_count": 4,
   "metadata": {
    "pycharm": {
     "name": "#%%\n"
    }
   },
   "outputs": [
    {
     "data": {
      "application/vnd.jupyter.widget-view+json": {
       "model_id": "ce1532622a8e4526afb2f46a0b9c3a1e",
       "version_major": 2,
       "version_minor": 0
      },
      "text/plain": [
       "HBox(children=(HTML(value=''), FloatProgress(value=0.0, max=2.0), HTML(value='')))"
      ]
     },
     "metadata": {},
     "output_type": "display_data"
    },
    {
     "name": "stdout",
     "output_type": "stream",
     "text": [
      "\n",
      "[[548, 175, 614, 261]]\n"
     ]
    }
   ],
   "source": [
    "import glob\n",
    "imgs = glob.glob('*.png')\n",
    "for img_path in tqdm(imgs):\n",
    "    img = cv2.imread(img_path)\n",
    "    rgb_img = cv2.cvtColor(img, cv2.COLOR_BGR2RGB)\n",
    "    coordinates, landmarks, faces = retina.get_faces(rgb_img)\n",
    "    img = _drawing_frame(coordinates, landmarks, img)\n",
    "    cv2.imwrite(f'output_{img_path}', img)\n",
    "print(coordinates)"
   ]
  },
  {
   "cell_type": "code",
   "execution_count": null,
   "metadata": {},
   "outputs": [],
   "source": []
  }
 ],
 "metadata": {
  "kernelspec": {
   "display_name": "Python 3",
   "language": "python",
   "name": "python3"
  },
  "language_info": {
   "codemirror_mode": {
    "name": "ipython",
    "version": 3
   },
   "file_extension": ".py",
   "mimetype": "text/x-python",
   "name": "python",
   "nbconvert_exporter": "python",
   "pygments_lexer": "ipython3",
   "version": "3.6.8"
  }
 },
 "nbformat": 4,
 "nbformat_minor": 4
}
